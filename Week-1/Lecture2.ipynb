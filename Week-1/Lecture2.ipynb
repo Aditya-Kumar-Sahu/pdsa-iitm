{
  "cells": [
    {
      "cell_type": "markdown",
      "metadata": {
        "id": "r1TbEeykj3vo"
      },
      "source": [
        "# PDSA with Python, Week 1 - Introducing Jupyter Notebook\n",
        "## Computing primes from 1 to 100"
      ]
    },
    {
      "cell_type": "markdown",
      "source": [
        "## Aim of this notebook\n",
        "* Illustrate how Jupyter/Colab notebooks work\n",
        "* Interspersing documentation, explanations with the code\n",
        "* Output is preserved, reloaded when the notebook is opened the next time\n",
        "\n",
        "\n",
        "\n"
      ],
      "metadata": {
        "id": "cmDkhfiBkJ3L"
      }
    },
    {
      "cell_type": "markdown",
      "source": [
        "## Let's begin"
      ],
      "metadata": {
        "id": "_4soJmhskQeH"
      }
    },
    {
      "cell_type": "markdown",
      "source": [
        "First: a function compute list of factors of a number"
      ],
      "metadata": {
        "id": "OsaE3Vg_kUCm"
      }
    },
    {
      "cell_type": "code",
      "execution_count": 1,
      "metadata": {
        "id": "BBw9At4Bj3vq"
      },
      "outputs": [],
      "source": [
        "def factors(n):\n",
        "  factorlist = []\n",
        "  for i in range(1,n+1):\n",
        "    if n%i == 0:\n",
        "      factorlist.append(i)\n",
        "  return(factorlist)"
      ]
    }
  ],
  "metadata": {
    "language_info": {
      "name": "python"
    },
    "orig_nbformat": 4,
    "colab": {
      "provenance": []
    },
    "kernelspec": {
      "name": "python3",
      "display_name": "Python 3"
    }
  },
  "nbformat": 4,
  "nbformat_minor": 0
}